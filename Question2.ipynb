{
 "cells": [
  {
   "cell_type": "markdown",
   "id": "2fb98e76-8211-4b56-8de4-d98a8acfd5cc",
   "metadata": {},
   "source": [
    "Function to demonstrate the use of *args and *kwargs\n",
    "\n",
    "->*args is used to pass a non-keyworded, variable-length argument list to a function. It allows a function to accept zero or more arguments as a tuple. The * symbol is used to denote that the argument is a tuple of values.\n",
    "\n",
    "->**kwargs is used to pass a keyworded, variable-length argument list to a function. It allows a function to accept zero or more keyword arguments as a dictionary. The ** symbol is used to denote that the argument is a dictionary of key-value pairs."
   ]
  },
  {
   "cell_type": "code",
   "execution_count": 1,
   "id": "f2c0d9c3-370b-4e96-ba75-13f01ecdcbde",
   "metadata": {},
   "outputs": [
    {
     "name": "stdout",
     "output_type": "stream",
     "text": [
      "hello\n",
      "world\n",
      "python\n"
     ]
    }
   ],
   "source": [
    "def my_function(*args):\n",
    "    for arg in args:\n",
    "        print(arg)\n",
    "\n",
    "my_function('hello', 'world', 'python')"
   ]
  },
  {
   "cell_type": "code",
   "execution_count": 7,
   "id": "4efe2406-6dc8-4510-87d4-a6c97ee4ab12",
   "metadata": {},
   "outputs": [
    {
     "name": "stdout",
     "output_type": "stream",
     "text": [
      "name = John\n",
      "age = 30\n",
      "country = USA\n"
     ]
    }
   ],
   "source": [
    "def my_function(**kwargs):\n",
    "    for key, value in kwargs.items():\n",
    "        print(f\"{key} = {value}\")\n",
    "\n",
    "my_function(name='John', age=30, country='USA')"
   ]
  },
  {
   "cell_type": "code",
   "execution_count": null,
   "id": "3b641249-2478-4eda-bed0-f7692ec9b7e1",
   "metadata": {},
   "outputs": [],
   "source": []
  },
  {
   "cell_type": "code",
   "execution_count": null,
   "id": "5cc2bfaa-c6c2-4f00-96a9-6cc1f302b3de",
   "metadata": {},
   "outputs": [],
   "source": []
  }
 ],
 "metadata": {
  "kernelspec": {
   "display_name": "Python 3 (ipykernel)",
   "language": "python",
   "name": "python3"
  },
  "language_info": {
   "codemirror_mode": {
    "name": "ipython",
    "version": 3
   },
   "file_extension": ".py",
   "mimetype": "text/x-python",
   "name": "python",
   "nbconvert_exporter": "python",
   "pygments_lexer": "ipython3",
   "version": "3.12.1"
  }
 },
 "nbformat": 4,
 "nbformat_minor": 5
}
