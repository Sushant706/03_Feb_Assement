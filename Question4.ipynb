{
 "cells": [
  {
   "cell_type": "markdown",
   "id": "5ec86a1b-b440-45a4-93fc-6318949f620c",
   "metadata": {},
   "source": [
    "What is a generator function in python? Why yield keyword is used? Give an example of a generator function.\n",
    "\n",
    "Answwer: A generator function in Python is a special type of function that returns an iterator object, which can be used to generate a sequence of values on the fly, without storing them in memory all at once. The yield keyword is used in generator functions to produce a value and suspend the function's execution, allowing the caller to iterate over the generated values."
   ]
  },
  {
   "cell_type": "code",
   "execution_count": 6,
   "id": "e7b07834-b394-4757-a9e1-8b32977ebc10",
   "metadata": {},
   "outputs": [
    {
     "name": "stdout",
     "output_type": "stream",
     "text": [
      "0\n",
      "1\n",
      "1\n",
      "2\n",
      "3\n",
      "5\n",
      "8\n",
      "13\n",
      "21\n",
      "34\n"
     ]
    }
   ],
   "source": [
    "def fibonacci(n):\n",
    "    a, b = 0, 1\n",
    "    for i in range(n):\n",
    "        yield a\n",
    "        a, b = b, a + b\n",
    "\n",
    "fib_gen = fibonacci(10)\n",
    "for i in fib_gen:\n",
    "    print(i)"
   ]
  }
 ],
 "metadata": {
  "kernelspec": {
   "display_name": "Python 3 (ipykernel)",
   "language": "python",
   "name": "python3"
  },
  "language_info": {
   "codemirror_mode": {
    "name": "ipython",
    "version": 3
   },
   "file_extension": ".py",
   "mimetype": "text/x-python",
   "name": "python",
   "nbconvert_exporter": "python",
   "pygments_lexer": "ipython3",
   "version": "3.12.1"
  }
 },
 "nbformat": 4,
 "nbformat_minor": 5
}
