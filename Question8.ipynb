{
 "cells": [
  {
   "cell_type": "markdown",
   "id": "d537fe27-72e5-4880-b562-61d7a57eb9b8",
   "metadata": {},
   "source": [
    "Write a python program to check whether a given number is Palindrome or not using a while loop"
   ]
  },
  {
   "cell_type": "code",
   "execution_count": 4,
   "id": "b9e3c7fb-9591-4bd3-b1f0-3d60c5b26238",
   "metadata": {},
   "outputs": [
    {
     "name": "stdout",
     "output_type": "stream",
     "text": [
      "1221 is a palindrome.\n"
     ]
    }
   ],
   "source": [
    "def is_palindrome(n):\n",
    "    original_num = n\n",
    "    reversed_num = 0\n",
    "    while n > 0:\n",
    "        remainder = n % 10\n",
    "        reversed_num = reversed_num * 10 + remainder\n",
    "        n = n // 10\n",
    "    \n",
    "    if original_num == reversed_num:\n",
    "        print(f\"{original_num} is a palindrome.\")\n",
    "    else:\n",
    "        print(f\"{original_num} is not a palindrome.\")\n",
    "is_palindrome(1221)"
   ]
  }
 ],
 "metadata": {
  "kernelspec": {
   "display_name": "Python 3 (ipykernel)",
   "language": "python",
   "name": "python3"
  },
  "language_info": {
   "codemirror_mode": {
    "name": "ipython",
    "version": 3
   },
   "file_extension": ".py",
   "mimetype": "text/x-python",
   "name": "python",
   "nbconvert_exporter": "python",
   "pygments_lexer": "ipython3",
   "version": "3.12.1"
  }
 },
 "nbformat": 4,
 "nbformat_minor": 5
}
