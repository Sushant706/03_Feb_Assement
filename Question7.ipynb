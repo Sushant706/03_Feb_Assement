{
 "cells": [
  {
   "cell_type": "markdown",
   "id": "e4399521-cf37-47a1-bcf3-9a81325395a9",
   "metadata": {},
   "source": [
    "Write a List Comprehension to iterate through the given string: 'pwskills'. Expected output: ['p', 'w', 's', 'k', T, T, T, 's']\n"
   ]
  },
  {
   "cell_type": "code",
   "execution_count": 1,
   "id": "f01ea743-397f-46b4-87f6-0994db79ebe3",
   "metadata": {},
   "outputs": [
    {
     "name": "stdout",
     "output_type": "stream",
     "text": [
      "['p', 'w', 's', 'k', 'T', 'T', 'T', 's']\n"
     ]
    }
   ],
   "source": [
    "input_str = 'pwskills'\n",
    "output_list = ['T' if char in 'il' else char for char in input_str]\n",
    "\n",
    "# Print the output list\n",
    "print(output_list)"
   ]
  }
 ],
 "metadata": {
  "kernelspec": {
   "display_name": "Python 3 (ipykernel)",
   "language": "python",
   "name": "python3"
  },
  "language_info": {
   "codemirror_mode": {
    "name": "ipython",
    "version": 3
   },
   "file_extension": ".py",
   "mimetype": "text/x-python",
   "name": "python",
   "nbconvert_exporter": "python",
   "pygments_lexer": "ipython3",
   "version": "3.12.1"
  }
 },
 "nbformat": 4,
 "nbformat_minor": 5
}
