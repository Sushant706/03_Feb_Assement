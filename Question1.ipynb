{
 "cells": [
  {
   "cell_type": "markdown",
   "id": "ffaaa2b2-1aa1-4aa5-bf42-aadf42781f8f",
   "metadata": {},
   "source": [
    "Create a function to return a list of odd numbers between 1 to 25\n",
    "\n",
    "To create function in python def keyword is used"
   ]
  },
  {
   "cell_type": "code",
   "execution_count": 1,
   "id": "c49aa36e-64b5-48f9-84f1-7b67d591a0f2",
   "metadata": {},
   "outputs": [],
   "source": [
    "def get_odd_number(start_point, end_point):\n",
    "    odd_numbers=[]\n",
    "    for i in range(start_point,end_point+1):\n",
    "        if i%2!=0:\n",
    "            odd_numbers.append(i)\n",
    "    return odd_numbers"
   ]
  },
  {
   "cell_type": "code",
   "execution_count": 2,
   "id": "77806f50-cb59-4026-986b-40c66f3c6414",
   "metadata": {},
   "outputs": [
    {
     "name": "stdout",
     "output_type": "stream",
     "text": [
      "[1, 3, 5, 7, 9, 11, 13, 15, 17, 19, 21, 23, 25]\n"
     ]
    }
   ],
   "source": [
    "print(get_odd_number(1,25))"
   ]
  }
 ],
 "metadata": {
  "kernelspec": {
   "display_name": "Python 3 (ipykernel)",
   "language": "python",
   "name": "python3"
  },
  "language_info": {
   "codemirror_mode": {
    "name": "ipython",
    "version": 3
   },
   "file_extension": ".py",
   "mimetype": "text/x-python",
   "name": "python",
   "nbconvert_exporter": "python",
   "pygments_lexer": "ipython3",
   "version": "3.12.1"
  }
 },
 "nbformat": 4,
 "nbformat_minor": 5
}
