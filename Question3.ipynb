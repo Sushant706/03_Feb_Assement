{
 "cells": [
  {
   "cell_type": "markdown",
   "id": "ab0addbf-b186-4834-a5d3-0ab9a0d039d4",
   "metadata": {},
   "source": [
    "What is an iterator in python? Name the method used to initialise the iterator object and the method used for iteration. Use these methods to print the first five elements of the given list [2, 4, 6, 8, 10, 12, 14, 16, 18, 20].\n",
    "\n",
    "Answer: In Python, an iterator is an object that allows you to iterate over a sequence (such as a list, tuple, or string) or other iterable objects (such as a dictionary or set). An iterator returns the elements of the sequence one at a time, allowing you to process each element individually.\n",
    "\n",
    "-> iter() function and __next__ method is used to perform iteration\n"
   ]
  },
  {
   "cell_type": "code",
   "execution_count": 4,
   "id": "fe8b7f6b-723c-4073-b37d-20586d867aba",
   "metadata": {},
   "outputs": [],
   "source": [
    "my_list = [2, 4, 6, 8, 10, 12, 14, 16, 18, 20]\n",
    "my_iterator = iter(my_list)"
   ]
  },
  {
   "cell_type": "code",
   "execution_count": 5,
   "id": "3d308882-d616-4b80-b47a-ca6e51a96d93",
   "metadata": {},
   "outputs": [
    {
     "name": "stdout",
     "output_type": "stream",
     "text": [
      "2\n",
      "4\n",
      "6\n",
      "8\n",
      "10\n"
     ]
    }
   ],
   "source": [
    "for i in range(5):\n",
    "    try:\n",
    "        element = next(my_iterator)\n",
    "        print(element)\n",
    "    except StopIteration:\n",
    "        break"
   ]
  }
 ],
 "metadata": {
  "kernelspec": {
   "display_name": "Python 3 (ipykernel)",
   "language": "python",
   "name": "python3"
  },
  "language_info": {
   "codemirror_mode": {
    "name": "ipython",
    "version": 3
   },
   "file_extension": ".py",
   "mimetype": "text/x-python",
   "name": "python",
   "nbconvert_exporter": "python",
   "pygments_lexer": "ipython3",
   "version": "3.12.1"
  }
 },
 "nbformat": 4,
 "nbformat_minor": 5
}
